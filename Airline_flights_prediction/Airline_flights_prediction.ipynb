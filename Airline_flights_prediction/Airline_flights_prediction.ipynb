{
  "cells": [
    {
      "cell_type": "markdown",
      "metadata": {
        "id": "5PcQrB799En7"
      },
      "source": [
        "# Airline Data Analysis\n",
        "\n",
        "Authors: Jose Rodrigo Flores Espinosa & Marta Napa\n",
        "\n",
        "The project aims to analyze the US domestic flight dataset using PySpark Dataframes and predict which flight/flight carrier is most likely to be canceled or delayed."
      ]
    },
    {
      "cell_type": "markdown",
      "metadata": {
        "id": "zukamT-V9KZ0"
      },
      "source": [
        "## Load data\n",
        "\n",
        "The dataset is taken from Kaggle and consists of 7 CSV files containing information about\n",
        "airlines, delay information, location details (origins and destinations), and cancellation (reasons\n",
        "labeled as cancellation codes) over the period between 2009 to 2015 [1]. "
      ]
    },
    {
      "cell_type": "code",
      "execution_count": null,
      "metadata": {
        "colab": {
          "base_uri": "https://localhost:8080/"
        },
        "id": "2NE1UrrdBJ7o",
        "outputId": "b44b2f4c-30f5-4d82-b059-7ae8ef1854d3"
      },
      "outputs": [
        {
          "name": "stdout",
          "output_type": "stream",
          "text": [
            "Looking in indexes: https://pypi.org/simple, https://us-python.pkg.dev/colab-wheels/public/simple/\n",
            "Requirement already satisfied: pyspark in /usr/local/lib/python3.7/dist-packages (3.2.1)\n",
            "Requirement already satisfied: py4j==0.10.9.3 in /usr/local/lib/python3.7/dist-packages (from pyspark) (0.10.9.3)\n"
          ]
        }
      ],
      "source": [
        "%pip install pyspark"
      ]
    },
    {
      "cell_type": "code",
      "execution_count": null,
      "metadata": {
        "id": "D24ypAc7BL_W"
      },
      "outputs": [],
      "source": [
        "import numpy as np\n",
        "import pandas as pd\n",
        "# SparkContext represents the connection to a Spark cluster\n",
        "from pyspark.context import SparkContext\n",
        "# Configuration for a Spark application\n",
        "from pyspark.conf import SparkConf\n",
        "# The entry point to programming Spark with the Dataset and DataFrame API\n",
        "from pyspark.sql.session import SparkSession"
      ]
    },
    {
      "cell_type": "code",
      "execution_count": null,
      "metadata": {
        "id": "eBjky29dBzll"
      },
      "outputs": [],
      "source": [
        "conf = SparkConf().setAppName(\"project3\")\n",
        "sc = SparkContext.getOrCreate()\n",
        "sqlContext = SparkSession.builder.getOrCreate()"
      ]
    },
    {
      "cell_type": "code",
      "execution_count": null,
      "metadata": {
        "id": "oCR-kzpW93a3"
      },
      "outputs": [],
      "source": [
        "# Load the 2009 CSV file and combine the dataset (2009 to 2015 data)\n",
        "path = [\"2009.csv\", \"2010.csv\", \"2011.csv\", \"2012.csv\", \"2013.csv\", \"2014.csv\", \"2015.csv\", \"2016.csv\", \"2017.csv\", \"2018.csv\"]"
      ]
    },
    {
      "cell_type": "code",
      "execution_count": null,
      "metadata": {
        "colab": {
          "base_uri": "https://localhost:8080/",
          "height": 54
        },
        "id": "AXeeBhXHBAWL",
        "outputId": "0636a938-43bc-460c-e247-bd4cd6b3a71f"
      },
      "outputs": [
        {
          "data": {
            "text/plain": [
              "DataFrame[FL_DATE: string, OP_CARRIER: string, OP_CARRIER_FL_NUM: int, ORIGIN: string, DEST: string, CRS_DEP_TIME: double, DEP_TIME: double, DEP_DELAY: double, TAXI_OUT: double, WHEELS_OFF: double, WHEELS_ON: double, TAXI_IN: double, CRS_ARR_TIME: double, ARR_TIME: double, ARR_DELAY: double, CANCELLED: double, CANCELLATION_CODE: string, DIVERTED: double, CRS_ELAPSED_TIME: double, ACTUAL_ELAPSED_TIME: double, AIR_TIME: double, DISTANCE: double, CARRIER_DELAY: double, WEATHER_DELAY: double, NAS_DELAY: double, SECURITY_DELAY: double, LATE_AIRCRAFT_DELAY: double, Unnamed: 27: string]"
            ]
          },
          "metadata": {},
          "output_type": "display_data"
        }
      ],
      "source": [
        "# Loading the data (creating the main dataframe)\n",
        "df = sqlContext.read.option(\"inferSchema\",True).format(\"csv\").option(\"header\", \"true\").load(path)\n",
        "display(df)"
      ]
    },
    {
      "cell_type": "code",
      "execution_count": null,
      "metadata": {
        "colab": {
          "base_uri": "https://localhost:8080/"
        },
        "id": "NCmgYY4sCE1R",
        "outputId": "2ecd9bf7-b6e5-4eec-a8a4-db3cade11370"
      },
      "outputs": [
        {
          "name": "stdout",
          "output_type": "stream",
          "text": [
            "+----------+----------+-----------------+------+----+------------+--------+---------+--------+----------+---------+-------+------------+--------+---------+---------+-----------------+--------+----------------+-------------------+--------+--------+-------------+-------------+---------+--------------+-------------------+-----------+\n",
            "|   FL_DATE|OP_CARRIER|OP_CARRIER_FL_NUM|ORIGIN|DEST|CRS_DEP_TIME|DEP_TIME|DEP_DELAY|TAXI_OUT|WHEELS_OFF|WHEELS_ON|TAXI_IN|CRS_ARR_TIME|ARR_TIME|ARR_DELAY|CANCELLED|CANCELLATION_CODE|DIVERTED|CRS_ELAPSED_TIME|ACTUAL_ELAPSED_TIME|AIR_TIME|DISTANCE|CARRIER_DELAY|WEATHER_DELAY|NAS_DELAY|SECURITY_DELAY|LATE_AIRCRAFT_DELAY|Unnamed: 27|\n",
            "+----------+----------+-----------------+------+----+------------+--------+---------+--------+----------+---------+-------+------------+--------+---------+---------+-----------------+--------+----------------+-------------------+--------+--------+-------------+-------------+---------+--------------+-------------------+-----------+\n",
            "|2009-01-01|        XE|             1204|   DCA| EWR|      1100.0|  1058.0|     -2.0|    18.0|    1116.0|   1158.0|    8.0|      1202.0|  1206.0|      4.0|      0.0|             null|     0.0|            62.0|               68.0|    42.0|   199.0|         null|         null|     null|          null|               null|       null|\n",
            "|2009-01-01|        XE|             1206|   EWR| IAD|      1510.0|  1509.0|     -1.0|    28.0|    1537.0|   1620.0|    4.0|      1632.0|  1624.0|     -8.0|      0.0|             null|     0.0|            82.0|               75.0|    43.0|   213.0|         null|         null|     null|          null|               null|       null|\n",
            "|2009-01-01|        XE|             1207|   EWR| DCA|      1100.0|  1059.0|     -1.0|    20.0|    1119.0|   1155.0|    6.0|      1210.0|  1201.0|     -9.0|      0.0|             null|     0.0|            70.0|               62.0|    36.0|   199.0|         null|         null|     null|          null|               null|       null|\n",
            "+----------+----------+-----------------+------+----+------------+--------+---------+--------+----------+---------+-------+------------+--------+---------+---------+-----------------+--------+----------------+-------------------+--------+--------+-------------+-------------+---------+--------------+-------------------+-----------+\n",
            "only showing top 3 rows\n",
            "\n"
          ]
        }
      ],
      "source": [
        "df.show(3)"
      ]
    },
    {
      "cell_type": "markdown",
      "metadata": {
        "id": "cjfDQV_z9Lmq"
      },
      "source": [
        "## Data preprocessing"
      ]
    },
    {
      "cell_type": "code",
      "execution_count": null,
      "metadata": {
        "colab": {
          "base_uri": "https://localhost:8080/"
        },
        "id": "zItlQByJ94mm",
        "outputId": "b56fb2c0-ff38-4421-bca7-d22f05ea5ea9"
      },
      "outputs": [
        {
          "data": {
            "text/plain": [
              "['FL_DATE',\n",
              " 'OP_CARRIER',\n",
              " 'OP_CARRIER_FL_NUM',\n",
              " 'ORIGIN',\n",
              " 'DEST',\n",
              " 'CRS_DEP_TIME',\n",
              " 'DEP_TIME',\n",
              " 'DEP_DELAY',\n",
              " 'TAXI_OUT',\n",
              " 'WHEELS_OFF',\n",
              " 'WHEELS_ON',\n",
              " 'TAXI_IN',\n",
              " 'CRS_ARR_TIME',\n",
              " 'ARR_TIME',\n",
              " 'ARR_DELAY',\n",
              " 'CANCELLED',\n",
              " 'CANCELLATION_CODE',\n",
              " 'DIVERTED',\n",
              " 'CRS_ELAPSED_TIME',\n",
              " 'ACTUAL_ELAPSED_TIME',\n",
              " 'AIR_TIME',\n",
              " 'DISTANCE',\n",
              " 'CARRIER_DELAY',\n",
              " 'WEATHER_DELAY',\n",
              " 'NAS_DELAY',\n",
              " 'SECURITY_DELAY',\n",
              " 'LATE_AIRCRAFT_DELAY',\n",
              " 'Unnamed: 27']"
            ]
          },
          "execution_count": 541,
          "metadata": {},
          "output_type": "execute_result"
        }
      ],
      "source": [
        "# get column names\n",
        "df.columns"
      ]
    },
    {
      "cell_type": "code",
      "execution_count": null,
      "metadata": {
        "id": "r_mp1WsnC31_"
      },
      "outputs": [],
      "source": [
        "# drop unnamed columns\n",
        "df = df.drop('Unnamed: 27')"
      ]
    },
    {
      "cell_type": "code",
      "execution_count": null,
      "metadata": {
        "colab": {
          "base_uri": "https://localhost:8080/"
        },
        "id": "Ev53t16cPET-",
        "outputId": "d0556363-56a1-48e6-d9b9-e6ca5291917a"
      },
      "outputs": [
        {
          "name": "stdout",
          "output_type": "stream",
          "text": [
            "+----------+----------+-----------------+------+----+------------+--------+---------+--------+----------+---------+-------+------------+--------+---------+---------+-----------------+--------+----------------+-------------------+--------+--------+-------------+-------------+---------+--------------+-------------------+\n",
            "|   FL_DATE|OP_CARRIER|OP_CARRIER_FL_NUM|ORIGIN|DEST|CRS_DEP_TIME|DEP_TIME|DEP_DELAY|TAXI_OUT|WHEELS_OFF|WHEELS_ON|TAXI_IN|CRS_ARR_TIME|ARR_TIME|ARR_DELAY|CANCELLED|CANCELLATION_CODE|DIVERTED|CRS_ELAPSED_TIME|ACTUAL_ELAPSED_TIME|AIR_TIME|DISTANCE|CARRIER_DELAY|WEATHER_DELAY|NAS_DELAY|SECURITY_DELAY|LATE_AIRCRAFT_DELAY|\n",
            "+----------+----------+-----------------+------+----+------------+--------+---------+--------+----------+---------+-------+------------+--------+---------+---------+-----------------+--------+----------------+-------------------+--------+--------+-------------+-------------+---------+--------------+-------------------+\n",
            "|2009-01-01|        XE|             1204|   DCA| EWR|      1100.0|  1058.0|     -2.0|    18.0|    1116.0|   1158.0|    8.0|      1202.0|  1206.0|      4.0|      0.0|             null|     0.0|            62.0|               68.0|    42.0|   199.0|         null|         null|     null|          null|               null|\n",
            "|2009-01-01|        XE|             1206|   EWR| IAD|      1510.0|  1509.0|     -1.0|    28.0|    1537.0|   1620.0|    4.0|      1632.0|  1624.0|     -8.0|      0.0|             null|     0.0|            82.0|               75.0|    43.0|   213.0|         null|         null|     null|          null|               null|\n",
            "|2009-01-01|        XE|             1207|   EWR| DCA|      1100.0|  1059.0|     -1.0|    20.0|    1119.0|   1155.0|    6.0|      1210.0|  1201.0|     -9.0|      0.0|             null|     0.0|            70.0|               62.0|    36.0|   199.0|         null|         null|     null|          null|               null|\n",
            "|2009-01-01|        XE|             1208|   DCA| EWR|      1240.0|  1249.0|      9.0|    10.0|    1259.0|   1336.0|    9.0|      1357.0|  1345.0|    -12.0|      0.0|             null|     0.0|            77.0|               56.0|    37.0|   199.0|         null|         null|     null|          null|               null|\n",
            "|2009-01-01|        XE|             1209|   IAD| EWR|      1715.0|  1705.0|    -10.0|    24.0|    1729.0|   1809.0|   13.0|      1900.0|  1822.0|    -38.0|      0.0|             null|     0.0|           105.0|               77.0|    40.0|   213.0|         null|         null|     null|          null|               null|\n",
            "|2009-01-01|        XE|             1212|   ATL| EWR|      1915.0|  1913.0|     -2.0|    19.0|    1932.0|   2108.0|   15.0|      2142.0|  2123.0|    -19.0|      0.0|             null|     0.0|           147.0|              130.0|    96.0|   745.0|         null|         null|     null|          null|               null|\n",
            "|2009-01-01|        XE|             1212|   CLE| ATL|      1645.0|  1637.0|     -8.0|    12.0|    1649.0|   1820.0|    5.0|      1842.0|  1825.0|    -17.0|      0.0|             null|     0.0|           117.0|              108.0|    91.0|   554.0|         null|         null|     null|          null|               null|\n",
            "|2009-01-01|        XE|             1214|   DCA| EWR|      1915.0|  1908.0|     -7.0|     9.0|    1917.0|   1953.0|   34.0|      2035.0|  2027.0|     -8.0|      0.0|             null|     0.0|            80.0|               79.0|    36.0|   199.0|         null|         null|     null|          null|               null|\n",
            "|2009-01-01|        XE|             1215|   EWR| DCA|      1715.0|  1710.0|     -5.0|    28.0|    1738.0|   1819.0|    4.0|      1838.0|  1823.0|    -15.0|      0.0|             null|     0.0|            83.0|               73.0|    41.0|   199.0|         null|         null|     null|          null|               null|\n",
            "|2009-01-01|        XE|             1217|   EWR| DCA|      1300.0|  1255.0|     -5.0|    15.0|    1310.0|   1349.0|    7.0|      1408.0|  1356.0|    -12.0|      0.0|             null|     0.0|            68.0|               61.0|    39.0|   199.0|         null|         null|     null|          null|               null|\n",
            "|2009-01-01|        XE|             1218|   DCA| EWR|      1500.0|  1457.0|     -3.0|    14.0|    1511.0|   1552.0|    7.0|      1620.0|  1559.0|    -21.0|      0.0|             null|     0.0|            80.0|               62.0|    41.0|   199.0|         null|         null|     null|          null|               null|\n",
            "|2009-01-01|        XE|             1219|   EWR| DCA|      2135.0|  2131.0|     -4.0|    21.0|    2152.0|   2232.0|    3.0|      2252.0|  2235.0|    -17.0|      0.0|             null|     0.0|            77.0|               64.0|    40.0|   199.0|         null|         null|     null|          null|               null|\n",
            "|2009-01-01|        XE|             1220|   CLE| DCA|      1905.0|  1855.0|    -10.0|    10.0|    1905.0|   1956.0|    5.0|      2025.0|  2001.0|    -24.0|      0.0|             null|     0.0|            80.0|               66.0|    51.0|   310.0|         null|         null|     null|          null|               null|\n",
            "|2009-01-01|        XE|             1220|   DCA| EWR|      2100.0|  2049.0|    -11.0|    10.0|    2059.0|   2133.0|   10.0|      2217.0|  2143.0|    -34.0|      0.0|             null|     0.0|            77.0|               54.0|    34.0|   199.0|         null|         null|     null|          null|               null|\n",
            "|2009-01-01|        XE|             1232|   ORD| EWR|       905.0|   900.0|     -5.0|    16.0|     916.0|   1144.0|    6.0|      1212.0|  1150.0|    -22.0|      0.0|             null|     0.0|           127.0|              110.0|    88.0|   719.0|         null|         null|     null|          null|               null|\n",
            "|2009-01-01|        XE|             1233|   EWR| ORD|      1000.0|  1035.0|     35.0|    14.0|    1049.0|   1156.0|   10.0|      1139.0|  1206.0|     27.0|      0.0|             null|     0.0|           159.0|              151.0|   127.0|   719.0|          0.0|         27.0|      0.0|           0.0|                0.0|\n",
            "|2009-01-01|        XE|             1234|   ORD| EWR|      1230.0|  1234.0|      4.0|     8.0|    1242.0|   1511.0|   14.0|      1559.0|  1525.0|    -34.0|      0.0|             null|     0.0|           149.0|              111.0|    89.0|   719.0|         null|         null|     null|          null|               null|\n",
            "|2009-01-01|        XE|             1235|   EWR| ORD|      1343.0|  1406.0|     23.0|    13.0|    1419.0|   1523.0|    7.0|      1523.0|  1530.0|      7.0|      0.0|             null|     0.0|           160.0|              144.0|   124.0|   719.0|         null|         null|     null|          null|               null|\n",
            "|2009-01-01|        XE|             1236|   ORD| EWR|      1630.0|  1619.0|    -11.0|    19.0|    1638.0|   1906.0|   35.0|      2002.0|  1941.0|    -21.0|      0.0|             null|     0.0|           152.0|              142.0|    88.0|   719.0|         null|         null|     null|          null|               null|\n",
            "|2009-01-01|        XE|             1237|   EWR| ORD|      1930.0|  1927.0|     -3.0|    16.0|    1943.0|   2049.0|    8.0|      2123.0|  2057.0|    -26.0|      0.0|             null|     0.0|           173.0|              150.0|   126.0|   719.0|         null|         null|     null|          null|               null|\n",
            "+----------+----------+-----------------+------+----+------------+--------+---------+--------+----------+---------+-------+------------+--------+---------+---------+-----------------+--------+----------------+-------------------+--------+--------+-------------+-------------+---------+--------------+-------------------+\n",
            "only showing top 20 rows\n",
            "\n"
          ]
        }
      ],
      "source": [
        "df.show()"
      ]
    },
    {
      "cell_type": "code",
      "execution_count": null,
      "metadata": {
        "colab": {
          "base_uri": "https://localhost:8080/"
        },
        "id": "pflOpeRWEORj",
        "outputId": "cee9222f-d4a1-45b8-aae7-5d77226f3ad7"
      },
      "outputs": [
        {
          "name": "stdout",
          "output_type": "stream",
          "text": [
            "<class 'pandas.core.frame.DataFrame'>\n",
            "RangeIndex: 243440 entries, 0 to 243439\n",
            "Data columns (total 27 columns):\n",
            " #   Column               Non-Null Count   Dtype  \n",
            "---  ------               --------------   -----  \n",
            " 0   FL_DATE              243440 non-null  object \n",
            " 1   OP_CARRIER           243438 non-null  object \n",
            " 2   OP_CARRIER_FL_NUM    243438 non-null  float64\n",
            " 3   ORIGIN               243437 non-null  object \n",
            " 4   DEST                 243437 non-null  object \n",
            " 5   CRS_DEP_TIME         243437 non-null  float64\n",
            " 6   DEP_TIME             239149 non-null  float64\n",
            " 7   DEP_DELAY            239132 non-null  float64\n",
            " 8   TAXI_OUT             239039 non-null  float64\n",
            " 9   WHEELS_OFF           239039 non-null  float64\n",
            " 10  WHEELS_ON            238815 non-null  float64\n",
            " 11  TAXI_IN              238813 non-null  float64\n",
            " 12  CRS_ARR_TIME         243432 non-null  float64\n",
            " 13  ARR_TIME             238813 non-null  float64\n",
            " 14  ARR_DELAY            238425 non-null  float64\n",
            " 15  CANCELLED            243430 non-null  float64\n",
            " 16  CANCELLATION_CODE    4448 non-null    object \n",
            " 17  DIVERTED             243430 non-null  float64\n",
            " 18  CRS_ELAPSED_TIME     243430 non-null  float64\n",
            " 19  ACTUAL_ELAPSED_TIME  238431 non-null  float64\n",
            " 20  AIR_TIME             238431 non-null  float64\n",
            " 21  DISTANCE             243430 non-null  float64\n",
            " 22  CARRIER_DELAY        58278 non-null   float64\n",
            " 23  WEATHER_DELAY        58278 non-null   float64\n",
            " 24  NAS_DELAY            58278 non-null   float64\n",
            " 25  SECURITY_DELAY       58278 non-null   float64\n",
            " 26  LATE_AIRCRAFT_DELAY  58278 non-null   float64\n",
            "dtypes: float64(22), object(5)\n",
            "memory usage: 50.1+ MB\n"
          ]
        }
      ],
      "source": [
        "df.toPandas().info()"
      ]
    },
    {
      "cell_type": "markdown",
      "metadata": {
        "id": "0HP8IHkdCuiI"
      },
      "source": [
        "When dealing with null values, we discovered that df.dropna(how='any') cannot be used, as it would result in an empty dataset (flights that weren't cancelled have CANCELLATION_CODE set as null, whereas cancelled flights have nulls for flight information). \n",
        "\n",
        "Therefore, we decided:\n",
        "1. For flights that weren't cancelled the cancellation code will be set as 'NOT CANCELLED'\n",
        "3. For not cancelled flights the missing numeric data about the flight will be filled with each column's mean value\n",
        "4. For cancelled flights the missing numeric data about the flight will be filled with 0s"
      ]
    },
    {
      "cell_type": "code",
      "execution_count": null,
      "metadata": {
        "colab": {
          "base_uri": "https://localhost:8080/"
        },
        "id": "vK7vTVBwshMM",
        "outputId": "06a993a5-e91e-4270-f2db-224ddbfb37af"
      },
      "outputs": [
        {
          "data": {
            "text/plain": [
              "4448"
            ]
          },
          "execution_count": 545,
          "metadata": {},
          "output_type": "execute_result"
        }
      ],
      "source": [
        "# how many cancelled flights in dataset\n",
        "df.where(df.CANCELLED == 1).count()"
      ]
    },
    {
      "cell_type": "code",
      "execution_count": null,
      "metadata": {
        "colab": {
          "base_uri": "https://localhost:8080/"
        },
        "id": "Lt-2-aaxshRh",
        "outputId": "8ae4b762-bfef-48ff-a97b-73f65d72bcec"
      },
      "outputs": [
        {
          "data": {
            "text/plain": [
              "238982"
            ]
          },
          "execution_count": 546,
          "metadata": {},
          "output_type": "execute_result"
        }
      ],
      "source": [
        "# how many not cancelled flights in dataset\n",
        "df.where(df.CANCELLED == 0).count()"
      ]
    },
    {
      "cell_type": "code",
      "execution_count": null,
      "metadata": {
        "colab": {
          "base_uri": "https://localhost:8080/"
        },
        "id": "BCp-DLACFhc6",
        "outputId": "a74b473a-6fdf-4430-f118-562f0e9f600f"
      },
      "outputs": [
        {
          "name": "stdout",
          "output_type": "stream",
          "text": [
            "+----------+----------+-----------------+------+----+------------+--------+---------+--------+----------+---------+-------+------------+--------+---------+---------+-----------------+--------+----------------+-------------------+--------+--------+-------------+-------------+---------+--------------+-------------------+\n",
            "|   FL_DATE|OP_CARRIER|OP_CARRIER_FL_NUM|ORIGIN|DEST|CRS_DEP_TIME|DEP_TIME|DEP_DELAY|TAXI_OUT|WHEELS_OFF|WHEELS_ON|TAXI_IN|CRS_ARR_TIME|ARR_TIME|ARR_DELAY|CANCELLED|CANCELLATION_CODE|DIVERTED|CRS_ELAPSED_TIME|ACTUAL_ELAPSED_TIME|AIR_TIME|DISTANCE|CARRIER_DELAY|WEATHER_DELAY|NAS_DELAY|SECURITY_DELAY|LATE_AIRCRAFT_DELAY|\n",
            "+----------+----------+-----------------+------+----+------------+--------+---------+--------+----------+---------+-------+------------+--------+---------+---------+-----------------+--------+----------------+-------------------+--------+--------+-------------+-------------+---------+--------------+-------------------+\n",
            "|2009-01-01|        XE|             1204|   DCA| EWR|      1100.0|  1058.0|     -2.0|    18.0|    1116.0|   1158.0|    8.0|      1202.0|  1206.0|      4.0|      0.0|             null|     0.0|            62.0|               68.0|    42.0|   199.0|         null|         null|     null|          null|               null|\n",
            "|2009-01-01|        XE|             1206|   EWR| IAD|      1510.0|  1509.0|     -1.0|    28.0|    1537.0|   1620.0|    4.0|      1632.0|  1624.0|     -8.0|      0.0|             null|     0.0|            82.0|               75.0|    43.0|   213.0|         null|         null|     null|          null|               null|\n",
            "|2009-01-01|        XE|             1207|   EWR| DCA|      1100.0|  1059.0|     -1.0|    20.0|    1119.0|   1155.0|    6.0|      1210.0|  1201.0|     -9.0|      0.0|             null|     0.0|            70.0|               62.0|    36.0|   199.0|         null|         null|     null|          null|               null|\n",
            "|2009-01-01|        XE|             1208|   DCA| EWR|      1240.0|  1249.0|      9.0|    10.0|    1259.0|   1336.0|    9.0|      1357.0|  1345.0|    -12.0|      0.0|             null|     0.0|            77.0|               56.0|    37.0|   199.0|         null|         null|     null|          null|               null|\n",
            "|2009-01-01|        XE|             1209|   IAD| EWR|      1715.0|  1705.0|    -10.0|    24.0|    1729.0|   1809.0|   13.0|      1900.0|  1822.0|    -38.0|      0.0|             null|     0.0|           105.0|               77.0|    40.0|   213.0|         null|         null|     null|          null|               null|\n",
            "+----------+----------+-----------------+------+----+------------+--------+---------+--------+----------+---------+-------+------------+--------+---------+---------+-----------------+--------+----------------+-------------------+--------+--------+-------------+-------------+---------+--------------+-------------------+\n",
            "only showing top 5 rows\n",
            "\n"
          ]
        }
      ],
      "source": [
        "df.filter(\"CANCELLATION_CODE is NULL\").show(5) "
      ]
    },
    {
      "cell_type": "code",
      "execution_count": null,
      "metadata": {
        "id": "AU6hbTnnvexY"
      },
      "outputs": [],
      "source": [
        "# creating a separate df for cancellations (needed later to understand the distribution of cancellation codes)\n",
        "df_cancellations = df.where(df.CANCELLATION_CODE!='null')"
      ]
    },
    {
      "cell_type": "code",
      "execution_count": null,
      "metadata": {
        "colab": {
          "base_uri": "https://localhost:8080/"
        },
        "id": "T9i9GpcWVnKT",
        "outputId": "86564203-7a2c-4a2c-8e62-13ac8d2ee51b"
      },
      "outputs": [
        {
          "data": {
            "text/plain": [
              "[Row(CANCELLATION_CODE='B'),\n",
              " Row(CANCELLATION_CODE='C'),\n",
              " Row(CANCELLATION_CODE='A')]"
            ]
          },
          "execution_count": 549,
          "metadata": {},
          "output_type": "execute_result"
        }
      ],
      "source": [
        "# see if there are cancelled flights without cancellation code\n",
        "df_cancellations.where(df.CANCELLED == 1.0).select('CANCELLATION_CODE').distinct().collect()"
      ]
    },
    {
      "cell_type": "code",
      "execution_count": null,
      "metadata": {
        "colab": {
          "base_uri": "https://localhost:8080/"
        },
        "id": "kdgKbsOZZv_0",
        "outputId": "08e36710-94c3-4143-ddb5-0f522948389e"
      },
      "outputs": [
        {
          "name": "stdout",
          "output_type": "stream",
          "text": [
            "<class 'pandas.core.frame.DataFrame'>\n",
            "RangeIndex: 4448 entries, 0 to 4447\n",
            "Data columns (total 27 columns):\n",
            " #   Column               Non-Null Count  Dtype  \n",
            "---  ------               --------------  -----  \n",
            " 0   FL_DATE              4448 non-null   object \n",
            " 1   OP_CARRIER           4448 non-null   object \n",
            " 2   OP_CARRIER_FL_NUM    4448 non-null   int32  \n",
            " 3   ORIGIN               4448 non-null   object \n",
            " 4   DEST                 4448 non-null   object \n",
            " 5   CRS_DEP_TIME         4448 non-null   float64\n",
            " 6   DEP_TIME             160 non-null    float64\n",
            " 7   DEP_DELAY            159 non-null    float64\n",
            " 8   TAXI_OUT             52 non-null     float64\n",
            " 9   WHEELS_OFF           52 non-null     float64\n",
            " 10  WHEELS_ON            0 non-null      float64\n",
            " 11  TAXI_IN              0 non-null      float64\n",
            " 12  CRS_ARR_TIME         4448 non-null   float64\n",
            " 13  ARR_TIME             0 non-null      float64\n",
            " 14  ARR_DELAY            0 non-null      float64\n",
            " 15  CANCELLED            4448 non-null   float64\n",
            " 16  CANCELLATION_CODE    4448 non-null   object \n",
            " 17  DIVERTED             4448 non-null   float64\n",
            " 18  CRS_ELAPSED_TIME     4448 non-null   float64\n",
            " 19  ACTUAL_ELAPSED_TIME  0 non-null      float64\n",
            " 20  AIR_TIME             0 non-null      float64\n",
            " 21  DISTANCE             4448 non-null   float64\n",
            " 22  CARRIER_DELAY        0 non-null      float64\n",
            " 23  WEATHER_DELAY        0 non-null      float64\n",
            " 24  NAS_DELAY            0 non-null      float64\n",
            " 25  SECURITY_DELAY       0 non-null      float64\n",
            " 26  LATE_AIRCRAFT_DELAY  0 non-null      float64\n",
            "dtypes: float64(21), int32(1), object(5)\n",
            "memory usage: 921.0+ KB\n"
          ]
        }
      ],
      "source": [
        "df_cancellations.toPandas().info()"
      ]
    },
    {
      "cell_type": "code",
      "execution_count": null,
      "metadata": {
        "id": "7t3I-MlOZcwf"
      },
      "outputs": [],
      "source": [
        "# drop columns that won't be needed for predictions (columns that have only nulls as values for cancelled flights)\n",
        "df = df.drop('WHEELS_ON', 'TAXI_IN', 'ARR_TIME', 'ARR_DELAY', 'ACTUAL_ELAPSED_TIME', 'AIR_TIME', 'CARRIER_DELAY', 'WEATHER_DELAY', 'NAS_DELAY', 'SECURITY_DELAY', 'LATE_AIRCRAFT_DELAY')"
      ]
    },
    {
      "cell_type": "code",
      "execution_count": null,
      "metadata": {
        "colab": {
          "base_uri": "https://localhost:8080/"
        },
        "id": "heeTQYVEbYPw",
        "outputId": "61f9cd36-b545-4025-f2ea-6d7376fa9846"
      },
      "outputs": [
        {
          "name": "stdout",
          "output_type": "stream",
          "text": [
            "<class 'pandas.core.frame.DataFrame'>\n",
            "RangeIndex: 243440 entries, 0 to 243439\n",
            "Data columns (total 16 columns):\n",
            " #   Column             Non-Null Count   Dtype  \n",
            "---  ------             --------------   -----  \n",
            " 0   FL_DATE            243440 non-null  object \n",
            " 1   OP_CARRIER         243438 non-null  object \n",
            " 2   OP_CARRIER_FL_NUM  243438 non-null  float64\n",
            " 3   ORIGIN             243437 non-null  object \n",
            " 4   DEST               243437 non-null  object \n",
            " 5   CRS_DEP_TIME       243437 non-null  float64\n",
            " 6   DEP_TIME           239149 non-null  float64\n",
            " 7   DEP_DELAY          239132 non-null  float64\n",
            " 8   TAXI_OUT           239039 non-null  float64\n",
            " 9   WHEELS_OFF         239039 non-null  float64\n",
            " 10  CRS_ARR_TIME       243432 non-null  float64\n",
            " 11  CANCELLED          243430 non-null  float64\n",
            " 12  CANCELLATION_CODE  4448 non-null    object \n",
            " 13  DIVERTED           243430 non-null  float64\n",
            " 14  CRS_ELAPSED_TIME   243430 non-null  float64\n",
            " 15  DISTANCE           243430 non-null  float64\n",
            "dtypes: float64(11), object(5)\n",
            "memory usage: 29.7+ MB\n"
          ]
        }
      ],
      "source": [
        "df.toPandas().info()"
      ]
    },
    {
      "cell_type": "code",
      "execution_count": null,
      "metadata": {
        "colab": {
          "base_uri": "https://localhost:8080/"
        },
        "id": "QaBPBSSbbo72",
        "outputId": "f732cb35-6291-4f2c-ea04-d1f548ff5e9b"
      },
      "outputs": [
        {
          "name": "stdout",
          "output_type": "stream",
          "text": [
            "+----------+----------+-----------------+------+----+------------+--------+---------+--------+----------+------------+---------+-----------------+--------+----------------+--------+\n",
            "|   FL_DATE|OP_CARRIER|OP_CARRIER_FL_NUM|ORIGIN|DEST|CRS_DEP_TIME|DEP_TIME|DEP_DELAY|TAXI_OUT|WHEELS_OFF|CRS_ARR_TIME|CANCELLED|CANCELLATION_CODE|DIVERTED|CRS_ELAPSED_TIME|DISTANCE|\n",
            "+----------+----------+-----------------+------+----+------------+--------+---------+--------+----------+------------+---------+-----------------+--------+----------------+--------+\n",
            "|2009-01-01|        YV|             7104|   DEN| CPR|      2150.0|    null|     null|    null|      null|      2312.0|      1.0|                A|     0.0|            82.0|   230.0|\n",
            "|2009-01-01|        YV|             7329|   DTW| ORD|      1857.0|    null|     null|    null|      null|      1914.0|      1.0|                A|     0.0|            77.0|   235.0|\n",
            "|2009-01-01|        YV|             7065|   EWR| IAD|      1013.0|    null|     null|    null|      null|      1139.0|      1.0|                A|     0.0|            86.0|   213.0|\n",
            "|2009-01-01|        YV|             2984|   FAT| LAS|       710.0|    null|     null|    null|      null|       820.0|      1.0|                B|     0.0|            70.0|   258.0|\n",
            "|2009-01-01|        YV|             2823|   FAT| PHX|       920.0|    null|     null|    null|      null|      1205.0|      1.0|                B|     0.0|           105.0|   493.0|\n",
            "+----------+----------+-----------------+------+----+------------+--------+---------+--------+----------+------------+---------+-----------------+--------+----------------+--------+\n",
            "only showing top 5 rows\n",
            "\n"
          ]
        }
      ],
      "source": [
        "df.filter(\"DEP_DELAY is NULL\").show(5) \n",
        "# here we can see that some cancelled flights didn't have DEP_TIME, DEP_DELAY, TAXI_OUT and WHEELS_OFF marked, as the flight didn't take off\n",
        "# these empty values will be replaced by 0s later"
      ]
    },
    {
      "cell_type": "markdown",
      "metadata": {
        "id": "jg-keqR1WlDD"
      },
      "source": [
        "There are no cancelled flights without a cancellation code. Meaning, that all flights that were not cancelled, can be marked as 'NOT CANCELLED'"
      ]
    },
    {
      "cell_type": "code",
      "execution_count": null,
      "metadata": {
        "id": "8sxUsNsuVR0x"
      },
      "outputs": [],
      "source": [
        "# replacing null values in column CANCELLATION_CODE\n",
        "df = df.na.fill(\"NOT CANCELLED\", \"CANCELLATION_CODE\")"
      ]
    },
    {
      "cell_type": "code",
      "execution_count": null,
      "metadata": {
        "colab": {
          "base_uri": "https://localhost:8080/"
        },
        "id": "kM3u1iHsNu-Y",
        "outputId": "d285ac63-ffa4-4cc6-de22-ed36a46edba4"
      },
      "outputs": [
        {
          "data": {
            "text/plain": [
              "[Row(CANCELLATION_CODE='B'),\n",
              " Row(CANCELLATION_CODE='C'),\n",
              " Row(CANCELLATION_CODE='A'),\n",
              " Row(CANCELLATION_CODE='NOT CANCELLED')]"
            ]
          },
          "execution_count": 555,
          "metadata": {},
          "output_type": "execute_result"
        }
      ],
      "source": [
        "df.select('CANCELLATION_CODE').distinct().collect()"
      ]
    },
    {
      "cell_type": "code",
      "execution_count": null,
      "metadata": {
        "colab": {
          "base_uri": "https://localhost:8080/"
        },
        "id": "nq00ageseZ8N",
        "outputId": "05f1b931-4212-45fe-857a-6928e20b3017"
      },
      "outputs": [
        {
          "name": "stdout",
          "output_type": "stream",
          "text": [
            "<class 'pandas.core.frame.DataFrame'>\n",
            "RangeIndex: 243440 entries, 0 to 243439\n",
            "Data columns (total 16 columns):\n",
            " #   Column             Non-Null Count   Dtype  \n",
            "---  ------             --------------   -----  \n",
            " 0   FL_DATE            243440 non-null  object \n",
            " 1   OP_CARRIER         243438 non-null  object \n",
            " 2   OP_CARRIER_FL_NUM  243438 non-null  float64\n",
            " 3   ORIGIN             243437 non-null  object \n",
            " 4   DEST               243437 non-null  object \n",
            " 5   CRS_DEP_TIME       243437 non-null  float64\n",
            " 6   DEP_TIME           239149 non-null  float64\n",
            " 7   DEP_DELAY          239132 non-null  float64\n",
            " 8   TAXI_OUT           239039 non-null  float64\n",
            " 9   WHEELS_OFF         239039 non-null  float64\n",
            " 10  CRS_ARR_TIME       243432 non-null  float64\n",
            " 11  CANCELLED          243430 non-null  float64\n",
            " 12  CANCELLATION_CODE  243440 non-null  object \n",
            " 13  DIVERTED           243430 non-null  float64\n",
            " 14  CRS_ELAPSED_TIME   243430 non-null  float64\n",
            " 15  DISTANCE           243430 non-null  float64\n",
            "dtypes: float64(11), object(5)\n",
            "memory usage: 29.7+ MB\n"
          ]
        }
      ],
      "source": [
        "df.toPandas().info()"
      ]
    },
    {
      "cell_type": "code",
      "execution_count": null,
      "metadata": {
        "id": "C0M5o9IivvyB"
      },
      "outputs": [],
      "source": [
        "# replace missing numeric values with 0s\n",
        "df = df.fillna(0, ['OP_CARRIER_FL_NUM', 'CRS_DEP_TIME', 'DEP_TIME', 'DEP_DELAY', 'TAXI_OUT', 'WHEELS_OFF', 'CRS_ARR_TIME', 'CANCELLED', 'DIVERTED', 'CRS_ELAPSED_TIME', 'DISTANCE'])"
      ]
    },
    {
      "cell_type": "code",
      "execution_count": null,
      "metadata": {
        "colab": {
          "base_uri": "https://localhost:8080/"
        },
        "id": "NtjO9-P8I57N",
        "outputId": "cf29689e-8f15-4010-9e4c-bb4b40d122a7"
      },
      "outputs": [
        {
          "name": "stdout",
          "output_type": "stream",
          "text": [
            "<class 'pandas.core.frame.DataFrame'>\n",
            "RangeIndex: 243440 entries, 0 to 243439\n",
            "Data columns (total 16 columns):\n",
            " #   Column             Non-Null Count   Dtype  \n",
            "---  ------             --------------   -----  \n",
            " 0   FL_DATE            243440 non-null  object \n",
            " 1   OP_CARRIER         243438 non-null  object \n",
            " 2   OP_CARRIER_FL_NUM  243440 non-null  int32  \n",
            " 3   ORIGIN             243437 non-null  object \n",
            " 4   DEST               243437 non-null  object \n",
            " 5   CRS_DEP_TIME       243440 non-null  float64\n",
            " 6   DEP_TIME           243440 non-null  float64\n",
            " 7   DEP_DELAY          243440 non-null  float64\n",
            " 8   TAXI_OUT           243440 non-null  float64\n",
            " 9   WHEELS_OFF         243440 non-null  float64\n",
            " 10  CRS_ARR_TIME       243440 non-null  float64\n",
            " 11  CANCELLED          243440 non-null  float64\n",
            " 12  CANCELLATION_CODE  243440 non-null  object \n",
            " 13  DIVERTED           243440 non-null  float64\n",
            " 14  CRS_ELAPSED_TIME   243440 non-null  float64\n",
            " 15  DISTANCE           243440 non-null  float64\n",
            "dtypes: float64(10), int32(1), object(5)\n",
            "memory usage: 28.8+ MB\n"
          ]
        }
      ],
      "source": [
        "df.toPandas().info()"
      ]
    },
    {
      "cell_type": "code",
      "execution_count": null,
      "metadata": {
        "id": "62mkii5TC86d"
      },
      "outputs": [],
      "source": [
        "# drop other null values, as there are very few of them\n",
        "df = df.dropna(how='any')"
      ]
    },
    {
      "cell_type": "code",
      "execution_count": null,
      "metadata": {
        "colab": {
          "base_uri": "https://localhost:8080/"
        },
        "id": "LvafjqxqFFPY",
        "outputId": "36cf4882-78cf-46af-fbfb-d09929b37004"
      },
      "outputs": [
        {
          "name": "stdout",
          "output_type": "stream",
          "text": [
            "<class 'pandas.core.frame.DataFrame'>\n",
            "RangeIndex: 243437 entries, 0 to 243436\n",
            "Data columns (total 16 columns):\n",
            " #   Column             Non-Null Count   Dtype  \n",
            "---  ------             --------------   -----  \n",
            " 0   FL_DATE            243437 non-null  object \n",
            " 1   OP_CARRIER         243437 non-null  object \n",
            " 2   OP_CARRIER_FL_NUM  243437 non-null  int32  \n",
            " 3   ORIGIN             243437 non-null  object \n",
            " 4   DEST               243437 non-null  object \n",
            " 5   CRS_DEP_TIME       243437 non-null  float64\n",
            " 6   DEP_TIME           243437 non-null  float64\n",
            " 7   DEP_DELAY          243437 non-null  float64\n",
            " 8   TAXI_OUT           243437 non-null  float64\n",
            " 9   WHEELS_OFF         243437 non-null  float64\n",
            " 10  CRS_ARR_TIME       243437 non-null  float64\n",
            " 11  CANCELLED          243437 non-null  float64\n",
            " 12  CANCELLATION_CODE  243437 non-null  object \n",
            " 13  DIVERTED           243437 non-null  float64\n",
            " 14  CRS_ELAPSED_TIME   243437 non-null  float64\n",
            " 15  DISTANCE           243437 non-null  float64\n",
            "dtypes: float64(10), int32(1), object(5)\n",
            "memory usage: 28.8+ MB\n"
          ]
        }
      ],
      "source": [
        "df.toPandas().info()"
      ]
    },
    {
      "cell_type": "code",
      "execution_count": null,
      "metadata": {
        "colab": {
          "base_uri": "https://localhost:8080/"
        },
        "id": "K1zVHuI1sNP7",
        "outputId": "86165377-29b4-4556-806e-4c5160eeba60"
      },
      "outputs": [
        {
          "data": {
            "text/plain": [
              "4448"
            ]
          },
          "execution_count": 561,
          "metadata": {},
          "output_type": "execute_result"
        }
      ],
      "source": [
        "df.where(df.CANCELLED == 1).count() # how many cancelled flights in dataset"
      ]
    },
    {
      "cell_type": "code",
      "execution_count": null,
      "metadata": {
        "colab": {
          "base_uri": "https://localhost:8080/"
        },
        "id": "_BFSWH9xsNUJ",
        "outputId": "658f9889-2592-4231-8b9a-4db79c69d372"
      },
      "outputs": [
        {
          "data": {
            "text/plain": [
              "238989"
            ]
          },
          "execution_count": 562,
          "metadata": {},
          "output_type": "execute_result"
        }
      ],
      "source": [
        "df.where(df.CANCELLED == 0).count() # how many not cancelled flights in dataset"
      ]
    },
    {
      "cell_type": "markdown",
      "metadata": {
        "id": "zeX5-lIA9LpG"
      },
      "source": [
        "## Data analysis"
      ]
    },
    {
      "cell_type": "markdown",
      "metadata": {
        "id": "xxyxMlxBVn2Z"
      },
      "source": [
        "### Find the top 10 airlines with the most flight operations from 2009 to 2015"
      ]
    },
    {
      "cell_type": "code",
      "execution_count": null,
      "metadata": {
        "colab": {
          "base_uri": "https://localhost:8080/"
        },
        "id": "Onnv_wzF97vB",
        "outputId": "10ae492b-1aa1-4067-9430-29c560b8fec8"
      },
      "outputs": [
        {
          "name": "stdout",
          "output_type": "stream",
          "text": [
            "+----------+-----+\n",
            "|OP_CARRIER|count|\n",
            "+----------+-----+\n",
            "|        DL|22405|\n",
            "|        WN|22301|\n",
            "|        AA|18960|\n",
            "|        OO|13874|\n",
            "|        EV|13421|\n",
            "|        MQ|11987|\n",
            "|        UA|10178|\n",
            "|        B6| 8751|\n",
            "|        US| 7833|\n",
            "|        AS| 5000|\n",
            "+----------+-----+\n",
            "only showing top 10 rows\n",
            "\n"
          ]
        }
      ],
      "source": [
        "from pyspark.sql.functions import col\n",
        "from pyspark.sql.functions import *\n",
        "from pyspark.sql.types import TimestampType\n",
        "# filter initial dataset, so it would contain only rows from 2009 to 2015\n",
        "dates = (\"2009-01-01\",  \"2015-12-31\")\n",
        "date_from, date_to = [to_date(lit(s)).cast(TimestampType()) for s in dates]\n",
        "df_filtered = df.where((df.FL_DATE > date_from) & (df.FL_DATE < date_to))\n",
        "\n",
        "# selecting top 10 airlines with most rows from the filtered dataset\n",
        "df_filtered.groupby('OP_CARRIER').count().sort(col(\"count\").desc()).show(10)"
      ]
    },
    {
      "cell_type": "markdown",
      "metadata": {
        "id": "uvkpUB2jVtuf"
      },
      "source": [
        "### Visualize the proportion for the total flight cancellation reasons across 2009 to 2015"
      ]
    },
    {
      "cell_type": "code",
      "execution_count": null,
      "metadata": {
        "colab": {
          "base_uri": "https://localhost:8080/"
        },
        "id": "jlwzNUf0EczM",
        "outputId": "294b404e-7a06-4f88-f44d-4efc9adec277"
      },
      "outputs": [
        {
          "name": "stdout",
          "output_type": "stream",
          "text": [
            "+-------------+-----------------+-----+\n",
            "|year(FL_DATE)|CANCELLATION_CODE|count|\n",
            "+-------------+-----------------+-----+\n",
            "|         2009|                A|   56|\n",
            "|         2009|                C|    6|\n",
            "|         2009|                B|   11|\n",
            "|         2010|                C|   13|\n",
            "|         2010|                B|   82|\n",
            "|         2010|                A|  311|\n",
            "|         2011|                B|   83|\n",
            "|         2011|                A|  217|\n",
            "|         2011|                C|   30|\n",
            "|         2012|                C|    1|\n",
            "|         2012|                A|  199|\n",
            "|         2012|                B|   78|\n",
            "|         2013|                A|  142|\n",
            "|         2013|                C|   25|\n",
            "|         2013|                B|   14|\n",
            "|         2014|                A|  383|\n",
            "|         2014|                C|  173|\n",
            "|         2014|                B| 1048|\n",
            "|         2015|                B|  428|\n",
            "|         2015|                C|   74|\n",
            "+-------------+-----------------+-----+\n",
            "only showing top 20 rows\n",
            "\n"
          ]
        }
      ],
      "source": [
        "from pyspark.sql.functions import year\n",
        "# using the dataframe with cancelled flights that was saved in the data preprcessing step\n",
        "df_cancellations_filtered = df_cancellations.where((df_cancellations.FL_DATE > date_from) & (df_cancellations.FL_DATE < date_to))\n",
        "df_cancellations_filtered = df_cancellations_filtered.groupby(year('FL_DATE'), 'CANCELLATION_CODE').count()\n",
        "df_cancellations_filtered.sort(asc('year(FL_DATE)')).show()\n",
        "# A - Airline/Carrier\n",
        "# B - Weather\n",
        "# C - National Air System\n",
        "# D - Security"
      ]
    },
    {
      "cell_type": "markdown",
      "metadata": {
        "id": "A0GISgOZ9Qh_"
      },
      "source": [
        "## Model prediction"
      ]
    },
    {
      "cell_type": "markdown",
      "metadata": {
        "id": "_e8x45uT-ER6"
      },
      "source": [
        "### StringIndexer & OneHotEncoder"
      ]
    },
    {
      "cell_type": "code",
      "execution_count": null,
      "metadata": {
        "id": "TJgDn7t2YCuA"
      },
      "outputs": [],
      "source": [
        "from pyspark.mllib.linalg import Vectors\n",
        "from pyspark.ml.feature import OneHotEncoder, VectorAssembler, StringIndexer\n",
        "from pyspark.ml import Pipeline"
      ]
    },
    {
      "cell_type": "code",
      "execution_count": null,
      "metadata": {
        "id": "3cuO3sbGYHFW"
      },
      "outputs": [],
      "source": [
        "CATE_FEATURES = ['FL_DATE','OP_CARRIER', 'ORIGIN', 'DEST']\n",
        "stages = []\n",
        "for categoricalCol in CATE_FEATURES:\n",
        "    stringIndexer = StringIndexer(inputCol=categoricalCol, outputCol=categoricalCol + \"Index\")\n",
        "    encoder = OneHotEncoder(inputCols=[stringIndexer.getOutputCol()], outputCols=[categoricalCol + \"classVec\"])\n",
        "    stages += [stringIndexer, encoder]"
      ]
    },
    {
      "cell_type": "code",
      "execution_count": null,
      "metadata": {
        "id": "InoJoPLl_8I_"
      },
      "outputs": [],
      "source": [
        "label_stringIdx =  StringIndexer(inputCol=\"CANCELLED\", outputCol=\"label\")\n",
        "stages += [label_stringIdx]"
      ]
    },
    {
      "cell_type": "markdown",
      "metadata": {
        "id": "Ce007mCH-JtB"
      },
      "source": [
        "### VectorAssembler"
      ]
    },
    {
      "cell_type": "code",
      "execution_count": null,
      "metadata": {
        "id": "MICrIq_WYq5u"
      },
      "outputs": [],
      "source": [
        "# Transform all features into a vector using VectorAssembler\n",
        "numericCols = [\"OP_CARRIER_FL_NUM\", \"CRS_DEP_TIME\", \"DEP_TIME\", \"DEP_DELAY\", \"TAXI_OUT\", \"WHEELS_OFF\", \"CRS_ARR_TIME\", \"DIVERTED\", \"CRS_ELAPSED_TIME\", \"DISTANCE\"]\n",
        "assemblerInputs = [c + \"classVec\" for c in CATE_FEATURES] + numericCols\n",
        "assembler = VectorAssembler(inputCols=assemblerInputs, outputCol=\"features\")\n",
        "stages += [assembler]"
      ]
    },
    {
      "cell_type": "code",
      "execution_count": null,
      "metadata": {
        "id": "WhB0_YK6eL4e"
      },
      "outputs": [],
      "source": [
        "# Creating a pipeline\n",
        "pipeline = Pipeline().setStages(stages)\n",
        "pipelineModel = pipeline.fit(df)\n",
        "PreparedData = pipelineModel.transform(df)"
      ]
    },
    {
      "cell_type": "code",
      "execution_count": null,
      "metadata": {
        "colab": {
          "base_uri": "https://localhost:8080/"
        },
        "id": "4G3JgkmJeLop",
        "outputId": "1fa0dc32-24ee-4a20-f684-09864ccea166"
      },
      "outputs": [
        {
          "name": "stdout",
          "output_type": "stream",
          "text": [
            "-RECORD 0-----------------------------------------------------------------------------------------------------------------------------------------------\n",
            " FL_DATE            | 2009-01-01                                                                                                                        \n",
            " OP_CARRIER         | XE                                                                                                                                \n",
            " OP_CARRIER_FL_NUM  | 1204                                                                                                                              \n",
            " ORIGIN             | DCA                                                                                                                               \n",
            " DEST               | EWR                                                                                                                               \n",
            " CRS_DEP_TIME       | 1100.0                                                                                                                            \n",
            " DEP_TIME           | 1058.0                                                                                                                            \n",
            " DEP_DELAY          | -2.0                                                                                                                              \n",
            " TAXI_OUT           | 18.0                                                                                                                              \n",
            " WHEELS_OFF         | 1116.0                                                                                                                            \n",
            " CRS_ARR_TIME       | 1202.0                                                                                                                            \n",
            " CANCELLED          | 0.0                                                                                                                               \n",
            " CANCELLATION_CODE  | NOT CANCELLED                                                                                                                     \n",
            " DIVERTED           | 0.0                                                                                                                               \n",
            " CRS_ELAPSED_TIME   | 62.0                                                                                                                              \n",
            " DISTANCE           | 199.0                                                                                                                             \n",
            " FL_DATEIndex       | 1.0                                                                                                                               \n",
            " FL_DATEclassVec    | (18,[1],[1.0])                                                                                                                    \n",
            " OP_CARRIERIndex    | 13.0                                                                                                                              \n",
            " OP_CARRIERclassVec | (22,[13],[1.0])                                                                                                                   \n",
            " ORIGINIndex        | 26.0                                                                                                                              \n",
            " ORIGINclassVec     | (354,[26],[1.0])                                                                                                                  \n",
            " DESTIndex          | 13.0                                                                                                                              \n",
            " DESTclassVec       | (354,[13],[1.0])                                                                                                                  \n",
            " label              | 0.0                                                                                                                               \n",
            " features           | (758,[1,31,66,407,748,749,750,751,752,753,754,756,757],[1.0,1.0,1.0,1.0,1204.0,1100.0,1058.0,-2.0,18.0,1116.0,1202.0,62.0,199.0]) \n",
            "only showing top 1 row\n",
            "\n"
          ]
        }
      ],
      "source": [
        "PreparedData.show(n=1, truncate=False, vertical=True)"
      ]
    },
    {
      "cell_type": "markdown",
      "metadata": {
        "id": "iPfXft7e-Lr3"
      },
      "source": [
        "### Splitting the data into 70/30 test and train ratio"
      ]
    },
    {
      "cell_type": "code",
      "execution_count": null,
      "metadata": {
        "colab": {
          "base_uri": "https://localhost:8080/"
        },
        "id": "B46VE0qreXkV",
        "outputId": "830a9133-8146-45ae-fb2d-c2ff7b79945d"
      },
      "outputs": [
        {
          "name": "stdout",
          "output_type": "stream",
          "text": [
            "170287\n",
            "73150\n"
          ]
        }
      ],
      "source": [
        "(trainingData, testData) = PreparedData.randomSplit([0.7, 0.3], seed=100)\n",
        "print(trainingData.count())\n",
        "print(testData.count())"
      ]
    },
    {
      "cell_type": "markdown",
      "metadata": {
        "id": "Sh4uTMyx-R0G"
      },
      "source": [
        "### Logistic regression"
      ]
    },
    {
      "cell_type": "code",
      "execution_count": null,
      "metadata": {
        "colab": {
          "base_uri": "https://localhost:8080/"
        },
        "id": "OUuNfSEk6AgN",
        "outputId": "532496eb-b3ea-412d-b2f5-a82497e8d59a"
      },
      "outputs": [
        {
          "name": "stdout",
          "output_type": "stream",
          "text": [
            "+----------+----------+-----------------+------+----+------------+--------+---------+--------+----------+------------+---------+-----------------+--------+----------------+--------+------------+---------------+---------------+------------------+-----------+----------------+---------+-----------------+-----+--------------------+--------------------+--------------------+----------+\n",
            "|   FL_DATE|OP_CARRIER|OP_CARRIER_FL_NUM|ORIGIN|DEST|CRS_DEP_TIME|DEP_TIME|DEP_DELAY|TAXI_OUT|WHEELS_OFF|CRS_ARR_TIME|CANCELLED|CANCELLATION_CODE|DIVERTED|CRS_ELAPSED_TIME|DISTANCE|FL_DATEIndex|FL_DATEclassVec|OP_CARRIERIndex|OP_CARRIERclassVec|ORIGINIndex|  ORIGINclassVec|DESTIndex|     DESTclassVec|label|            features|       rawPrediction|         probability|prediction|\n",
            "+----------+----------+-----------------+------+----+------------+--------+---------+--------+----------+------------+---------+-----------------+--------+----------------+--------+------------+---------------+---------------+------------------+-----------+----------------+---------+-----------------+-----+--------------------+--------------------+--------------------+----------+\n",
            "|2009-01-01|        9E|             2109|   MSP| OKC|      2130.0|  2126.0|     -4.0|    34.0|    2200.0|      2343.0|      0.0|    NOT CANCELLED|     0.0|           133.0|   695.0|         1.0| (18,[1],[1.0])|           12.0|   (22,[12],[1.0])|       14.0|(354,[14],[1.0])|     62.0| (354,[62],[1.0])|  0.0|(758,[1,30,54,456...|[5.67371802397609...|[0.99657668947873...|       0.0|\n",
            "|2009-01-01|        9E|             2122|   MSP| RHI|      1538.0|  1549.0|     11.0|    12.0|    1601.0|      1636.0|      0.0|    NOT CANCELLED|     0.0|            58.0|   190.0|         1.0| (18,[1],[1.0])|           12.0|   (22,[12],[1.0])|       14.0|(354,[14],[1.0])|    278.0|(354,[278],[1.0])|  0.0|(758,[1,30,54,672...|[4.64768223962214...|[0.99050718797373...|       0.0|\n",
            "|2009-01-01|        9E|             2123|   DTW| GRR|      1218.0|  1214.0|     -4.0|    16.0|    1230.0|      1320.0|      0.0|    NOT CANCELLED|     0.0|            62.0|   120.0|         1.0| (18,[1],[1.0])|           12.0|   (22,[12],[1.0])|       11.0|(354,[11],[1.0])|     86.0| (354,[86],[1.0])|  0.0|(758,[1,30,51,480...|[4.18015906201147...|[0.98493437063797...|       0.0|\n",
            "+----------+----------+-----------------+------+----+------------+--------+---------+--------+----------+------------+---------+-----------------+--------+----------------+--------+------------+---------------+---------------+------------------+-----------+----------------+---------+-----------------+-----+--------------------+--------------------+--------------------+----------+\n",
            "only showing top 3 rows\n",
            "\n"
          ]
        }
      ],
      "source": [
        "from pyspark.ml.classification import LogisticRegression\n",
        "\n",
        "lr = LogisticRegression(labelCol=\"label\", featuresCol=\"features\", maxIter=10, regParam=0.1)\n",
        "lr_model = lr.fit(trainingData)\n",
        "pred = lr_model.transform(testData)\n",
        "pred.show(3)"
      ]
    },
    {
      "cell_type": "code",
      "execution_count": null,
      "metadata": {
        "colab": {
          "base_uri": "https://localhost:8080/"
        },
        "id": "yV2ubyH2B4W0",
        "outputId": "4362c646-2da0-46bf-a4bd-818fe7d3c254"
      },
      "outputs": [
        {
          "name": "stdout",
          "output_type": "stream",
          "text": [
            "Prediction Accuracy:  0.9722333529183536\n",
            "Confusion Matrix:\n",
            "[[71790     0]\n",
            " [ 1359     1]]\n"
          ]
        }
      ],
      "source": [
        "from sklearn.metrics import confusion_matrix\n",
        "\n",
        "evaluator = MulticlassClassificationEvaluator(predictionCol=\"prediction\")\n",
        "acc = evaluator.evaluate(pred)\n",
        "\n",
        "print(\"Prediction Accuracy: \", acc)\n",
        " \n",
        "y_pred=pred.select(\"prediction\").collect()\n",
        "y_orig=pred.select(\"label\").collect()\n",
        "\n",
        "cm = confusion_matrix(y_orig, y_pred)\n",
        "print(\"Confusion Matrix:\")\n",
        "print(cm)"
      ]
    },
    {
      "cell_type": "markdown",
      "metadata": {
        "id": "Gof2dv1k-T-E"
      },
      "source": [
        "### Decision tree classifier"
      ]
    },
    {
      "cell_type": "code",
      "execution_count": null,
      "metadata": {
        "colab": {
          "base_uri": "https://localhost:8080/"
        },
        "id": "t5w2N5Ca6keo",
        "outputId": "26360ded-265e-4d18-98e4-993a15e2db93"
      },
      "outputs": [
        {
          "name": "stdout",
          "output_type": "stream",
          "text": [
            "+----------+----------+-----------------+------+----+------------+--------+---------+--------+----------+------------+---------+-----------------+--------+----------------+--------+------------+---------------+---------------+------------------+-----------+----------------+---------+-----------------+-----+--------------------+---------------+--------------------+----------+\n",
            "|   FL_DATE|OP_CARRIER|OP_CARRIER_FL_NUM|ORIGIN|DEST|CRS_DEP_TIME|DEP_TIME|DEP_DELAY|TAXI_OUT|WHEELS_OFF|CRS_ARR_TIME|CANCELLED|CANCELLATION_CODE|DIVERTED|CRS_ELAPSED_TIME|DISTANCE|FL_DATEIndex|FL_DATEclassVec|OP_CARRIERIndex|OP_CARRIERclassVec|ORIGINIndex|  ORIGINclassVec|DESTIndex|     DESTclassVec|label|            features|  rawPrediction|         probability|prediction|\n",
            "+----------+----------+-----------------+------+----+------------+--------+---------+--------+----------+------------+---------+-----------------+--------+----------------+--------+------------+---------------+---------------+------------------+-----------+----------------+---------+-----------------+-----+--------------------+---------------+--------------------+----------+\n",
            "|2009-01-01|        9E|             2109|   MSP| OKC|      2130.0|  2126.0|     -4.0|    34.0|    2200.0|      2343.0|      0.0|    NOT CANCELLED|     0.0|           133.0|   695.0|         1.0| (18,[1],[1.0])|           12.0|   (22,[12],[1.0])|       14.0|(354,[14],[1.0])|     62.0| (354,[62],[1.0])|  0.0|(758,[1,30,54,456...|[165798.0,33.0]|[0.99980100222515...|       0.0|\n",
            "|2009-01-01|        9E|             2122|   MSP| RHI|      1538.0|  1549.0|     11.0|    12.0|    1601.0|      1636.0|      0.0|    NOT CANCELLED|     0.0|            58.0|   190.0|         1.0| (18,[1],[1.0])|           12.0|   (22,[12],[1.0])|       14.0|(354,[14],[1.0])|    278.0|(354,[278],[1.0])|  0.0|(758,[1,30,54,672...|[165798.0,33.0]|[0.99980100222515...|       0.0|\n",
            "|2009-01-01|        9E|             2123|   DTW| GRR|      1218.0|  1214.0|     -4.0|    16.0|    1230.0|      1320.0|      0.0|    NOT CANCELLED|     0.0|            62.0|   120.0|         1.0| (18,[1],[1.0])|           12.0|   (22,[12],[1.0])|       11.0|(354,[11],[1.0])|     86.0| (354,[86],[1.0])|  0.0|(758,[1,30,51,480...|[165798.0,33.0]|[0.99980100222515...|       0.0|\n",
            "+----------+----------+-----------------+------+----+------------+--------+---------+--------+----------+------------+---------+-----------------+--------+----------------+--------+------------+---------------+---------------+------------------+-----------+----------------+---------+-----------------+-----+--------------------+---------------+--------------------+----------+\n",
            "only showing top 3 rows\n",
            "\n"
          ]
        }
      ],
      "source": [
        "from pyspark.ml.classification import DecisionTreeClassifier\n",
        "from pyspark.ml.evaluation import MulticlassClassificationEvaluator\n",
        "\n",
        "dt = DecisionTreeClassifier(featuresCol=\"features\", labelCol=\"label\")\n",
        "dt_model = dt.fit(trainingData)\n",
        "pred = dt_model.transform(testData)\n",
        "pred.show(3)"
      ]
    },
    {
      "cell_type": "code",
      "execution_count": null,
      "metadata": {
        "colab": {
          "base_uri": "https://localhost:8080/"
        },
        "id": "L0bvQepK7f6W",
        "outputId": "df40442b-3b63-41a2-9718-895ac0fecdee"
      },
      "outputs": [
        {
          "name": "stdout",
          "output_type": "stream",
          "text": [
            "Prediction Accuracy:  0.999753215972325\n",
            "Confusion Matrix:\n",
            "[[71789     1]\n",
            " [   17  1343]]\n"
          ]
        }
      ],
      "source": [
        "acc = evaluator.evaluate(pred)\n",
        "\n",
        "print(\"Prediction Accuracy: \", acc)\n",
        " \n",
        "y_pred=pred.select(\"prediction\").collect()\n",
        "y_orig=pred.select(\"label\").collect()\n",
        "\n",
        "cm = confusion_matrix(y_orig, y_pred)\n",
        "print(\"Confusion Matrix:\")\n",
        "print(cm)"
      ]
    },
    {
      "cell_type": "markdown",
      "metadata": {
        "id": "HOUiqrN2-V-A"
      },
      "source": [
        "### Random forest"
      ]
    },
    {
      "cell_type": "code",
      "execution_count": null,
      "metadata": {
        "colab": {
          "base_uri": "https://localhost:8080/"
        },
        "id": "T8IINRuC8DEZ",
        "outputId": "888315a7-c7ca-40af-94a3-accb1043bf1d"
      },
      "outputs": [
        {
          "name": "stdout",
          "output_type": "stream",
          "text": [
            "+----------+----------+-----------------+------+----+------------+--------+---------+--------+----------+------------+---------+-----------------+--------+----------------+--------+------------+---------------+---------------+------------------+-----------+----------------+---------+-----------------+-----+--------------------+--------------------+--------------------+----------+\n",
            "|   FL_DATE|OP_CARRIER|OP_CARRIER_FL_NUM|ORIGIN|DEST|CRS_DEP_TIME|DEP_TIME|DEP_DELAY|TAXI_OUT|WHEELS_OFF|CRS_ARR_TIME|CANCELLED|CANCELLATION_CODE|DIVERTED|CRS_ELAPSED_TIME|DISTANCE|FL_DATEIndex|FL_DATEclassVec|OP_CARRIERIndex|OP_CARRIERclassVec|ORIGINIndex|  ORIGINclassVec|DESTIndex|     DESTclassVec|label|            features|       rawPrediction|         probability|prediction|\n",
            "+----------+----------+-----------------+------+----+------------+--------+---------+--------+----------+------------+---------+-----------------+--------+----------------+--------+------------+---------------+---------------+------------------+-----------+----------------+---------+-----------------+-----+--------------------+--------------------+--------------------+----------+\n",
            "|2009-01-01|        9E|             2109|   MSP| OKC|      2130.0|  2126.0|     -4.0|    34.0|    2200.0|      2343.0|      0.0|    NOT CANCELLED|     0.0|           133.0|   695.0|         1.0| (18,[1],[1.0])|           12.0|   (22,[12],[1.0])|       14.0|(354,[14],[1.0])|     62.0| (354,[62],[1.0])|  0.0|(758,[1,30,54,456...|[19.8204964903386...|[0.99102482451693...|       0.0|\n",
            "|2009-01-01|        9E|             2122|   MSP| RHI|      1538.0|  1549.0|     11.0|    12.0|    1601.0|      1636.0|      0.0|    NOT CANCELLED|     0.0|            58.0|   190.0|         1.0| (18,[1],[1.0])|           12.0|   (22,[12],[1.0])|       14.0|(354,[14],[1.0])|    278.0|(354,[278],[1.0])|  0.0|(758,[1,30,54,672...|[19.8134967010924...|[0.99067483505462...|       0.0|\n",
            "|2009-01-01|        9E|             2123|   DTW| GRR|      1218.0|  1214.0|     -4.0|    16.0|    1230.0|      1320.0|      0.0|    NOT CANCELLED|     0.0|            62.0|   120.0|         1.0| (18,[1],[1.0])|           12.0|   (22,[12],[1.0])|       11.0|(354,[11],[1.0])|     86.0| (354,[86],[1.0])|  0.0|(758,[1,30,51,480...|[19.8134840824081...|[0.99067420412040...|       0.0|\n",
            "+----------+----------+-----------------+------+----+------------+--------+---------+--------+----------+------------+---------+-----------------+--------+----------------+--------+------------+---------------+---------------+------------------+-----------+----------------+---------+-----------------+-----+--------------------+--------------------+--------------------+----------+\n",
            "only showing top 3 rows\n",
            "\n"
          ]
        }
      ],
      "source": [
        "from pyspark.ml.classification import RandomForestClassifier\n",
        "\n",
        "rf = RandomForestClassifier(featuresCol = 'features', labelCol = 'label')\n",
        "rf_model = rf.fit(trainingData)\n",
        "pred = rf_model.transform(testData)\n",
        "pred.show(3)"
      ]
    },
    {
      "cell_type": "code",
      "execution_count": null,
      "metadata": {
        "colab": {
          "base_uri": "https://localhost:8080/"
        },
        "id": "hBvf4Jcm8Q_W",
        "outputId": "4f016d7a-462b-4e96-a2ae-d8f7b98a9fb7"
      },
      "outputs": [
        {
          "name": "stdout",
          "output_type": "stream",
          "text": [
            "Prediction Accuracy:  0.9740456434651485\n",
            "Confusion Matrix:\n",
            "[[71790     0]\n",
            " [ 1304    56]]\n"
          ]
        }
      ],
      "source": [
        "acc = evaluator.evaluate(pred)\n",
        "\n",
        "print(\"Prediction Accuracy: \", acc)\n",
        " \n",
        "y_pred=pred.select(\"prediction\").collect()\n",
        "y_orig=pred.select(\"label\").collect()\n",
        "\n",
        "cm = confusion_matrix(y_orig, y_pred)\n",
        "print(\"Confusion Matrix:\")\n",
        "print(cm)"
      ]
    },
    {
      "cell_type": "markdown",
      "metadata": {
        "id": "iU2sv_K0-XgK"
      },
      "source": [
        "### Gradient boosted trees"
      ]
    },
    {
      "cell_type": "code",
      "execution_count": null,
      "metadata": {
        "colab": {
          "base_uri": "https://localhost:8080/"
        },
        "id": "i36VTUtp8nM0",
        "outputId": "7c271ea4-8683-4a54-9827-5c07056891c4"
      },
      "outputs": [
        {
          "name": "stdout",
          "output_type": "stream",
          "text": [
            "+----------+----------+-----------------+------+----+------------+--------+---------+--------+----------+------------+---------+-----------------+--------+----------------+--------+------------+---------------+---------------+------------------+-----------+----------------+---------+----------------+-----+--------------------+--------------------+--------------------+----------+\n",
            "|   FL_DATE|OP_CARRIER|OP_CARRIER_FL_NUM|ORIGIN|DEST|CRS_DEP_TIME|DEP_TIME|DEP_DELAY|TAXI_OUT|WHEELS_OFF|CRS_ARR_TIME|CANCELLED|CANCELLATION_CODE|DIVERTED|CRS_ELAPSED_TIME|DISTANCE|FL_DATEIndex|FL_DATEclassVec|OP_CARRIERIndex|OP_CARRIERclassVec|ORIGINIndex|  ORIGINclassVec|DESTIndex|    DESTclassVec|label|            features|       rawPrediction|         probability|prediction|\n",
            "+----------+----------+-----------------+------+----+------------+--------+---------+--------+----------+------------+---------+-----------------+--------+----------------+--------+------------+---------------+---------------+------------------+-----------+----------------+---------+----------------+-----+--------------------+--------------------+--------------------+----------+\n",
            "|2009-01-01|        9E|             2102|   AUS| IND|      1655.0|  1650.0|     -5.0|    19.0|    1709.0|      2030.0|      0.0|    NOT CANCELLED|     0.0|           155.0|   920.0|         1.0| (18,[1],[1.0])|           12.0|   (22,[12],[1.0])|       34.0|(354,[34],[1.0])|     49.0|(354,[49],[1.0])|  0.0|(758,[1,30,74,443...|[1.32536062074455...|[0.93405542992592...|       0.0|\n",
            "|2009-01-01|        9E|             2103|   IND| AUS|      1445.0|  1450.0|      5.0|    14.0|    1504.0|      1615.0|      0.0|    NOT CANCELLED|     0.0|           150.0|   920.0|         1.0| (18,[1],[1.0])|           12.0|   (22,[12],[1.0])|       49.0|(354,[49],[1.0])|     34.0|(354,[34],[1.0])|  0.0|(758,[1,30,89,428...|[1.32536062074455...|[0.93405542992592...|       0.0|\n",
            "|2009-01-01|        9E|             2108|   OKC| MSP|       700.0|   650.0|    -10.0|    15.0|     705.0|       915.0|      0.0|    NOT CANCELLED|     0.0|           135.0|   695.0|         1.0| (18,[1],[1.0])|           12.0|   (22,[12],[1.0])|       62.0|(354,[62],[1.0])|     15.0|(354,[15],[1.0])|  0.0|(758,[1,30,102,40...|[1.32536062074455...|[0.93405542992592...|       0.0|\n",
            "+----------+----------+-----------------+------+----+------------+--------+---------+--------+----------+------------+---------+-----------------+--------+----------------+--------+------------+---------------+---------------+------------------+-----------+----------------+---------+----------------+-----+--------------------+--------------------+--------------------+----------+\n",
            "only showing top 3 rows\n",
            "\n"
          ]
        }
      ],
      "source": [
        "from pyspark.ml.classification import GBTClassifier\n",
        "\n",
        "gbt = GBTClassifier(labelCol=\"label\", featuresCol=\"features\", maxIter=10)\n",
        "  \n",
        "gbt_model = gbt.fit(trainingData)\n",
        "pred = gbt_model.transform(trainingData)\n",
        "pred.show(3)"
      ]
    },
    {
      "cell_type": "code",
      "execution_count": null,
      "metadata": {
        "colab": {
          "base_uri": "https://localhost:8080/"
        },
        "id": "aOU-w-l78pGh",
        "outputId": "ff0233f4-7346-4c06-80a5-1b88ecca7ba7"
      },
      "outputs": [
        {
          "name": "stdout",
          "output_type": "stream",
          "text": [
            "Prediction Accuracy:  0.9997763127024091\n",
            "Confusion Matrix:\n",
            "[[167195      4]\n",
            " [    34   3054]]\n"
          ]
        }
      ],
      "source": [
        "acc = evaluator.evaluate(pred)\n",
        "\n",
        "print(\"Prediction Accuracy: \", acc)\n",
        " \n",
        "y_pred=pred.select(\"prediction\").collect()\n",
        "y_orig=pred.select(\"label\").collect()\n",
        "\n",
        "cm = confusion_matrix(y_orig, y_pred)\n",
        "print(\"Confusion Matrix:\")\n",
        "print(cm)"
      ]
    },
    {
      "cell_type": "markdown",
      "metadata": {
        "id": "qucpGG9E-aMg"
      },
      "source": [
        "### Comparing accuracy"
      ]
    },
    {
      "cell_type": "markdown",
      "metadata": {
        "id": "lKe4Bd-PGRa5"
      },
      "source": [
        "From the results, we can tell that the accuracy was very high for all the different methods. This could be a result of an unbalanced dataset (approximately 238K not cancelled flights vs 4400 cancelled flights).\n",
        "Therefore, if these results were used for making decisions, for example, more attention should be put into on how to deal with the unbalanced dataset to get better predictions.\n",
        "\n",
        "From the results we got, the gradient boosted trees had the highest accuracy, it was followed by the decision tree classifier, the third highest accuracy belonged to random forest method and the forth was logistic regression."
      ]
    }
  ],
  "metadata": {
    "colab": {
      "collapsed_sections": [],
      "name": "BDM_Project3.ipynb",
      "provenance": [],
      "toc_visible": true
    },
    "kernelspec": {
      "display_name": "Python 3",
      "name": "python3"
    },
    "language_info": {
      "name": "python"
    }
  },
  "nbformat": 4,
  "nbformat_minor": 0
}
